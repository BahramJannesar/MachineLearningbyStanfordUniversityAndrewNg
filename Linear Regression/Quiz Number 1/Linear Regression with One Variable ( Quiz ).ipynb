{
 "cells": [
  {
   "cell_type": "code",
   "execution_count": 8,
   "metadata": {},
   "outputs": [],
   "source": [
    "import pandas as pd\n",
    "import matplotlib.pyplot as plt\n",
    "import seaborn as sns"
   ]
  },
  {
   "cell_type": "code",
   "execution_count": 25,
   "metadata": {},
   "outputs": [],
   "source": [
    "df = pd.read_csv('data.csv')\n",
    "line_equation_1 = pd.read_csv('line_equation_1.csv')\n",
    "line_equation_2 = pd.read_csv('line_equation_2.csv')\n",
    "line_equation_3 = pd.read_csv('line_equation_3.csv')\n",
    "line_equation_4 = pd.read_csv('line_equation_4.csv')\n",
    "line_equation_5 = pd.read_csv('line_equation_5.csv')"
   ]
  },
  {
   "cell_type": "code",
   "execution_count": 3,
   "metadata": {},
   "outputs": [
    {
     "data": {
      "text/html": [
       "<div>\n",
       "<style scoped>\n",
       "    .dataframe tbody tr th:only-of-type {\n",
       "        vertical-align: middle;\n",
       "    }\n",
       "\n",
       "    .dataframe tbody tr th {\n",
       "        vertical-align: top;\n",
       "    }\n",
       "\n",
       "    .dataframe thead th {\n",
       "        text-align: right;\n",
       "    }\n",
       "</style>\n",
       "<table border=\"1\" class=\"dataframe\">\n",
       "  <thead>\n",
       "    <tr style=\"text-align: right;\">\n",
       "      <th></th>\n",
       "      <th>x</th>\n",
       "      <th>y</th>\n",
       "    </tr>\n",
       "  </thead>\n",
       "  <tbody>\n",
       "    <tr>\n",
       "      <th>0</th>\n",
       "      <td>1</td>\n",
       "      <td>0.5</td>\n",
       "    </tr>\n",
       "    <tr>\n",
       "      <th>1</th>\n",
       "      <td>2</td>\n",
       "      <td>1.0</td>\n",
       "    </tr>\n",
       "    <tr>\n",
       "      <th>2</th>\n",
       "      <td>4</td>\n",
       "      <td>2.0</td>\n",
       "    </tr>\n",
       "    <tr>\n",
       "      <th>3</th>\n",
       "      <td>0</td>\n",
       "      <td>0.0</td>\n",
       "    </tr>\n",
       "  </tbody>\n",
       "</table>\n",
       "</div>"
      ],
      "text/plain": [
       "   x    y\n",
       "0  1  0.5\n",
       "1  2  1.0\n",
       "2  4  2.0\n",
       "3  0  0.0"
      ]
     },
     "execution_count": 3,
     "metadata": {},
     "output_type": "execute_result"
    }
   ],
   "source": [
    "df"
   ]
  },
  {
   "cell_type": "code",
   "execution_count": 31,
   "metadata": {},
   "outputs": [
    {
     "data": {
      "image/png": "[encoded data removed]",
      "text/plain": [
       "<Figure size 720x360 with 1 Axes>"
      ]
     },
     "metadata": {
      "needs_background": "light"
     },
     "output_type": "display_data"
    }
   ],
   "source": [
    "plt.figure(figsize=(10, 5))\n",
    "sns.scatterplot(x = 'x' , y = 'y' , data = df , s=80)\n",
    "sns.lineplot(x = 'x' , y = 'y' , data = line_equation_1 ,color='red', linewidth=1)\n",
    "sns.lineplot(x = 'x' , y = 'y' , data = line_equation_2 ,color='green', linewidth=1)\n",
    "sns.lineplot(x = 'x' , y = 'y' , data = line_equation_3 ,color='blue', linewidth=1)\n",
    "sns.lineplot(x = 'x' , y = 'y' , data = line_equation_4 ,color='yellow', linewidth=1)\n",
    "sns.lineplot(x = 'x' , y = 'y' , data = line_equation_5 ,color='black', linewidth=2 , alpha = 0.5)\n",
    "plt.xlabel('X')\n",
    "plt.ylabel('Y')\n",
    "plt.show()"
   ]
  },
  {
   "cell_type": "markdown",
   "metadata": {},
   "source": [
    "## Linear Regression\n",
    "\n",
    "The red one equation of thes line is --> ***h(x) = 0.5 + 0.5x***  means **theta_0** = 0.5 and **theta_1** = 0.5\n",
    "\n",
    "The green one of thes equation line is --> ***h(x) = 1 + 0.5x***  means **theta_0** = 1 and **theta_1** = 0.5\n",
    "\n",
    "The blue one of thes equation line is --> ***h(x) = 1+ 1x***  means **theta_0** = 1 and **theta_1** = 1\n",
    "\n",
    "The yellow one of thes equation line is --> ***h(x) = 0.5 + 0x***  means **theta_0** = 0.5 and **theta_1** = 0\n",
    "\n",
    "The black one of these equation line is --> ***h(x) = 0 + 0.5x***  means **theta_0** = 0 and **theta_1** = 0.5\n",
    "\n",
    "As you can see, the best equation line that we called **Cost Fucntion** here is the black line , and the best thetaes for this cost funciton is **theta_0 = 0** and **theta_1 = 0.5**"
   ]
  },
  {
   "cell_type": "code",
   "execution_count": null,
   "metadata": {},
   "outputs": [],
   "source": []
  }
 ],
 "metadata": {
  "kernelspec": {
   "display_name": "Python 3",
   "language": "python",
   "name": "python3"
  },
  "language_info": {
   "codemirror_mode": {
    "name": "ipython",
    "version": 2
   },
   "file_extension": ".py",
   "mimetype": "text/x-python",
   "name": "python",
   "nbconvert_exporter": "python",
   "pygments_lexer": "ipython2",
   "version": "2.7.17"
  }
 },
 "nbformat": 4,
 "nbformat_minor": 2
}
