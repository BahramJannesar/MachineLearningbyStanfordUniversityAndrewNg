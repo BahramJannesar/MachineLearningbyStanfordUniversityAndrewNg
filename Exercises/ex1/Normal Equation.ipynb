{
 "cells": [
  {
   "cell_type": "code",
   "execution_count": 23,
   "metadata": {},
   "outputs": [],
   "source": [
    "import numpy as np\n",
    "import pandas as pd\n",
    "import matplotlib.pyplot as plt\n",
    "import seaborn as sns"
   ]
  },
  {
   "cell_type": "code",
   "execution_count": 24,
   "metadata": {},
   "outputs": [],
   "source": [
    "X = []\n",
    "y = []\n",
    "list_of_data = []\n",
    "with open('ex1data2.txt' , 'r') as file :\n",
    "    list_of_data.append(file.readlines())"
   ]
  },
  {
   "cell_type": "code",
   "execution_count": 25,
   "metadata": {},
   "outputs": [],
   "source": [
    "for i in range(len(list_of_data[0])):\n",
    "    temp = []\n",
    "    temp.append(int(list_of_data[0][i].split(',')[0]))\n",
    "    temp.append(int(list_of_data[0][i].split(',')[1]))\n",
    "    X.append(temp)\n",
    "    y.append(int(list_of_data[0][i].split(',')[2].strip()))"
   ]
  },
  {
   "cell_type": "code",
   "execution_count": 26,
   "metadata": {},
   "outputs": [],
   "source": [
    "X = np.array(X)\n",
    "y = np.array(y)"
   ]
  },
  {
   "cell_type": "code",
   "execution_count": 27,
   "metadata": {},
   "outputs": [],
   "source": [
    "m = y.size"
   ]
  },
  {
   "cell_type": "code",
   "execution_count": 28,
   "metadata": {},
   "outputs": [
    {
     "name": "stdout",
     "output_type": "stream",
     "text": [
      "data set size = 47\n",
      "shape of the X = (47, 2)\n",
      "shape of the y = (47,)\n"
     ]
    }
   ],
   "source": [
    "print('data set size = {}'.format(y.size))\n",
    "print('shape of the X = {}'.format(X.shape))\n",
    "print('shape of the y = {}'.format(y.shape))"
   ]
  },
  {
   "cell_type": "code",
   "execution_count": 29,
   "metadata": {},
   "outputs": [],
   "source": [
    "def feature_normalization(X):\n",
    "    \n",
    "    standard_deviation = np.std(X, axis= 0)\n",
    "    mean = np.mean(X, axis= 0)\n",
    "    X_normalized = (X - mean)/ standard_deviation\n",
    "    \n",
    "    return X_normalized"
   ]
  },
  {
   "cell_type": "code",
   "execution_count": 30,
   "metadata": {},
   "outputs": [],
   "source": [
    "X_normalized = feature_normalization(X)"
   ]
  },
  {
   "cell_type": "code",
   "execution_count": 31,
   "metadata": {},
   "outputs": [],
   "source": [
    "X = np.concatenate([np.ones(m).reshape(m ,1) , X_normalized] , axis = 1)"
   ]
  },
  {
   "cell_type": "code",
   "execution_count": 45,
   "metadata": {},
   "outputs": [],
   "source": [
    "def normal_equation(X , y):\n",
    "    thetas = np.array([0 , 0 ,0])\n",
    "    thetas = np.dot((np.dot(np.linalg.inv(np.dot(X.T , X)) , X.T)), y)\n",
    "    return thetas"
   ]
  },
  {
   "cell_type": "code",
   "execution_count": 46,
   "metadata": {},
   "outputs": [],
   "source": [
    "thetas = normal_equation(X , y)"
   ]
  },
  {
   "cell_type": "code",
   "execution_count": 49,
   "metadata": {},
   "outputs": [
    {
     "name": "stdout",
     "output_type": "stream",
     "text": [
      "the values of thetas are theta_0 = 340412.66 , theta_1 = 109447.80 , theta_2 = -6578.35\n"
     ]
    }
   ],
   "source": [
    "print('the values of thetas are theta_0 = {:.2f} , theta_1 = {:.2f} , theta_2 = {:.2f}'.format(thetas[0] , thetas[1] , thetas[2]))"
   ]
  }
 ],
 "metadata": {
  "kernelspec": {
   "display_name": "Python 3.6.9 64-bit",
   "language": "python",
   "name": "python36964bitaf6989ab52a148a6938686e4c79eda0f"
  },
  "language_info": {
   "codemirror_mode": {
    "name": "ipython",
    "version": 3
   },
   "file_extension": ".py",
   "mimetype": "text/x-python",
   "name": "python",
   "nbconvert_exporter": "python",
   "pygments_lexer": "ipython3",
   "version": "3.6.9"
  }
 },
 "nbformat": 4,
 "nbformat_minor": 2
}
